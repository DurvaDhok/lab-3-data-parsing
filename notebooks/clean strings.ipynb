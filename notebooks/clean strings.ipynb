{
 "cells": [
  {
   "cell_type": "code",
   "execution_count": 51,
   "id": "5b4278cf",
   "metadata": {},
   "outputs": [
    {
     "name": "stdout",
     "output_type": "stream",
     "text": [
      "             raw  clean\n",
      "0           BOB(    NaN\n",
      "1        dana~      NaN\n",
      "2          {EVE/    NaN\n",
      "3      \"ALICE       NaN\n",
      "4            BOB    NaN\n",
      "5           DANA    NaN\n",
      "6        CHARLIE    NaN\n",
      "7       alice       NaN\n",
      "8          FRANK    NaN\n",
      "9            bob    NaN\n",
      "10           eve    NaN\n",
      "11        \\dana'    NaN\n",
      "12           EVE    NaN\n",
      "13      CHARLIE     NaN\n",
      "14          -eve    NaN\n",
      "15        bob       NaN\n",
      "16           EVE    NaN\n",
      "17     .FRANK       NaN\n",
      "18          eve     NaN\n",
      "19           EVE    NaN\n",
      "20          BOB&    NaN\n",
      "21      charlie\"    NaN\n",
      "22    ,charlie      NaN\n",
      "23         EVE      NaN\n",
      "24         ]dana    NaN\n",
      "25     charlie      NaN\n",
      "26        alice+    NaN\n",
      "27         EVE{     NaN\n",
      "28          DANA    NaN\n",
      "29       frank      NaN\n",
      "30      CHARLIE!    NaN\n",
      "31      |ALICE#     NaN\n",
      "32           BOB    NaN\n",
      "33        frank^    NaN\n",
      "34         alice    NaN\n",
      "35          'bob    NaN\n",
      "36       CHARLIE    NaN\n",
      "37         eve+     NaN\n",
      "38      CHARLIE     NaN\n",
      "39       charlie    NaN\n",
      "40         dana#    NaN\n",
      "41       DANA       NaN\n",
      "42          dana    NaN\n",
      "43       CHARLIE    NaN\n",
      "44    =charlie!     NaN\n",
      "45        bob       NaN\n",
      "46           bob    NaN\n",
      "47       ;EVE       NaN\n",
      "48    =charlie      NaN\n",
      "49          dana    NaN\n"
     ]
    }
   ],
   "source": [
    "import pandas as pd\n",
    "\n",
    "df = pd.read_csv(\"/Users/durvadhok/BU/lab-3-data-parsing/data/messy_strings.csv\")\n",
    "print(df)\n"
   ]
  },
  {
   "cell_type": "code",
   "execution_count": 131,
   "id": "39087c55",
   "metadata": {},
   "outputs": [],
   "source": [
    "import string\n",
    "def clean_strings(strings):\n",
    "    cleaned = strings.str.lower()\n",
    "    cleaned = cleaned.str.replace(\",\",\"\").str.replace(\"!\",\"\").str.replace(\"?\",\"\").str.replace(\".\",\"\").str.replace(\";\",\"\").str.replace(\":\",\"\").str.replace(\"{\",\"\").str.replace(\"/\",\"\").str.replace(\"=\",\"\").str.replace(\"(\",\"\").str.replace(\"~\",\"\").str.replace(\"'\",\"\").str.replace('\"',\"\").str.replace(\"&\",\"\").str.replace(\"+\",\"\").str.replace(\"-\",\"\").str.replace(\"]\",\"\").str.replace(\"^\",\"\").str.replace(\"#\",\"\").str.replace(\"|\",\"\")\n",
    "    cleaned = cleaned.str.replace(\" \",\"\")\n",
    "    cleaned = cleaned.str.replace(\"\\\\\",\"\")\n",
    "    return(cleaned)"
   ]
  },
  {
   "cell_type": "code",
   "execution_count": 127,
   "id": "d0d07142",
   "metadata": {},
   "outputs": [
    {
     "name": "stdout",
     "output_type": "stream",
     "text": [
      "0         bob\n",
      "1        dana\n",
      "2         eve\n",
      "3       alice\n",
      "4         bob\n",
      "5        dana\n",
      "6     charlie\n",
      "7       alice\n",
      "8       frank\n",
      "9         bob\n",
      "10        eve\n",
      "11      \\dana\n",
      "12        eve\n",
      "13    charlie\n",
      "14        eve\n",
      "15        bob\n",
      "16        eve\n",
      "17      frank\n",
      "18        eve\n",
      "19        eve\n",
      "20        bob\n",
      "21    charlie\n",
      "22    charlie\n",
      "23        eve\n",
      "24       dana\n",
      "25    charlie\n",
      "26      alice\n",
      "27        eve\n",
      "28       dana\n",
      "29      frank\n",
      "30    charlie\n",
      "31      alice\n",
      "32        bob\n",
      "33      frank\n",
      "34      alice\n",
      "35        bob\n",
      "36    charlie\n",
      "37        eve\n",
      "38    charlie\n",
      "39    charlie\n",
      "40       dana\n",
      "41       dana\n",
      "42       dana\n",
      "43    charlie\n",
      "44    charlie\n",
      "45        bob\n",
      "46        bob\n",
      "47        eve\n",
      "48    charlie\n",
      "49       dana\n",
      "Name: clean, dtype: object\n"
     ]
    }
   ],
   "source": [
    "df['clean'] = clean_strings(df['raw'])\n",
    "print(df['clean'])"
   ]
  },
  {
   "cell_type": "code",
   "execution_count": 128,
   "id": "8169e791",
   "metadata": {},
   "outputs": [],
   "source": [
    "total_rows = len(df['clean'])\n",
    "unique_count = (df['clean']).nunique\n",
    "most_common_strings = (df['clean']).value_counts().idxmax"
   ]
  },
  {
   "cell_type": "code",
   "execution_count": 130,
   "id": "05d2aae7",
   "metadata": {},
   "outputs": [],
   "source": [
    "df.to_csv(\"/Users/durvadhok/BU/lab-3-data-parsing/data/messy_strings.csv\", index=False)\n"
   ]
  }
 ],
 "metadata": {
  "kernelspec": {
   "display_name": "base",
   "language": "python",
   "name": "python3"
  },
  "language_info": {
   "codemirror_mode": {
    "name": "ipython",
    "version": 3
   },
   "file_extension": ".py",
   "mimetype": "text/x-python",
   "name": "python",
   "nbconvert_exporter": "python",
   "pygments_lexer": "ipython3",
   "version": "3.13.5"
  }
 },
 "nbformat": 4,
 "nbformat_minor": 5
}

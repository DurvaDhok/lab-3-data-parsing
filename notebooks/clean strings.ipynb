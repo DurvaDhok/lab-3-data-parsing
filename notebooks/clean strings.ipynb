{
 "cells": [
  {
   "cell_type": "code",
   "execution_count": 7,
   "id": "5b4278cf",
   "metadata": {},
   "outputs": [
    {
     "name": "stdout",
     "output_type": "stream",
     "text": [
      "             raw  clean\n",
      "0           BOB(    NaN\n",
      "1        dana~      NaN\n",
      "2          {EVE/    NaN\n",
      "3      \"ALICE       NaN\n",
      "4            BOB    NaN\n",
      "5           DANA    NaN\n",
      "6        CHARLIE    NaN\n",
      "7       alice       NaN\n",
      "8          FRANK    NaN\n",
      "9            bob    NaN\n",
      "10           eve    NaN\n",
      "11        \\dana'    NaN\n",
      "12           EVE    NaN\n",
      "13      CHARLIE     NaN\n",
      "14          -eve    NaN\n",
      "15        bob       NaN\n",
      "16           EVE    NaN\n",
      "17     .FRANK       NaN\n",
      "18          eve     NaN\n",
      "19           EVE    NaN\n",
      "20          BOB&    NaN\n",
      "21      charlie\"    NaN\n",
      "22    ,charlie      NaN\n",
      "23         EVE      NaN\n",
      "24         ]dana    NaN\n",
      "25     charlie      NaN\n",
      "26        alice+    NaN\n",
      "27         EVE{     NaN\n",
      "28          DANA    NaN\n",
      "29       frank      NaN\n",
      "30      CHARLIE!    NaN\n",
      "31      |ALICE#     NaN\n",
      "32           BOB    NaN\n",
      "33        frank^    NaN\n",
      "34         alice    NaN\n",
      "35          'bob    NaN\n",
      "36       CHARLIE    NaN\n",
      "37         eve+     NaN\n",
      "38      CHARLIE     NaN\n",
      "39       charlie    NaN\n",
      "40         dana#    NaN\n",
      "41       DANA       NaN\n",
      "42          dana    NaN\n",
      "43       CHARLIE    NaN\n",
      "44    =charlie!     NaN\n",
      "45        bob       NaN\n",
      "46           bob    NaN\n",
      "47       ;EVE       NaN\n",
      "48    =charlie      NaN\n",
      "49          dana    NaN\n"
     ]
    }
   ],
   "source": [
    "import pandas as pd\n",
    "\n",
    "df = pd.read_csv(\"/Users/durvadhok/BU/lab-3-data-parsing/data/messy_strings.csv\")\n",
    "print(df)\n"
   ]
  },
  {
   "cell_type": "code",
   "execution_count": 9,
   "id": "39087c55",
   "metadata": {},
   "outputs": [
    {
     "name": "stdout",
     "output_type": "stream",
     "text": [
      "             raw  clean\n",
      "0           BOB(    NaN\n",
      "1        dana~      NaN\n",
      "2          {EVE/    NaN\n",
      "3      \"ALICE       NaN\n",
      "4            BOB    NaN\n",
      "5           DANA    NaN\n",
      "6        CHARLIE    NaN\n",
      "7       alice       NaN\n",
      "8          FRANK    NaN\n",
      "9            bob    NaN\n",
      "10           eve    NaN\n",
      "11        \\dana'    NaN\n",
      "12           EVE    NaN\n",
      "13      CHARLIE     NaN\n",
      "14          -eve    NaN\n",
      "15        bob       NaN\n",
      "16           EVE    NaN\n",
      "17     .FRANK       NaN\n",
      "18          eve     NaN\n",
      "19           EVE    NaN\n",
      "20          BOB&    NaN\n",
      "21      charlie\"    NaN\n",
      "22    ,charlie      NaN\n",
      "23         EVE      NaN\n",
      "24         ]dana    NaN\n",
      "25     charlie      NaN\n",
      "26        alice+    NaN\n",
      "27         EVE{     NaN\n",
      "28          DANA    NaN\n",
      "29       frank      NaN\n",
      "30      CHARLIE!    NaN\n",
      "31      |ALICE#     NaN\n",
      "32           BOB    NaN\n",
      "33        frank^    NaN\n",
      "34         alice    NaN\n",
      "35          'bob    NaN\n",
      "36       CHARLIE    NaN\n",
      "37         eve+     NaN\n",
      "38      CHARLIE     NaN\n",
      "39       charlie    NaN\n",
      "40         dana#    NaN\n",
      "41       DANA       NaN\n",
      "42          dana    NaN\n",
      "43       CHARLIE    NaN\n",
      "44    =charlie!     NaN\n",
      "45        bob       NaN\n",
      "46           bob    NaN\n",
      "47       ;EVE       NaN\n",
      "48    =charlie      NaN\n",
      "49          dana    NaN\n"
     ]
    }
   ],
   "source": [
    "import string\n",
    "def clean_strings(strings):\n",
    "    strings.replace(\" \",\"\")\n",
    "    strings.str.lower()\n",
    "    strings.replace(\",\",\"\").replace(\"!\",\"\").replace(\"?\",\"\").replace(\".\",\"\").replace(\";\",\"\").replace(\":\",\"\")\n",
    "    filter(\"\", strings)\n",
    "    return cleaned\n",
    "\n",
    "print(df)\n"
   ]
  },
  {
   "cell_type": "code",
   "execution_count": 38,
   "id": "d0d07142",
   "metadata": {},
   "outputs": [],
   "source": [
    " df['clean'] = clean_strings(df['raw'])"
   ]
  },
  {
   "cell_type": "code",
   "execution_count": 45,
   "id": "8169e791",
   "metadata": {},
   "outputs": [],
   "source": [
    "total_rows = len(df['clean'])\n",
    "unique_count = (df['clean']).nunique\n",
    "most_common_strings = (df['clean']).value_counts().idxmax"
   ]
  },
  {
   "cell_type": "code",
   "execution_count": 46,
   "id": "05d2aae7",
   "metadata": {},
   "outputs": [],
   "source": [
    "df.to_csv(\"/Users/durvadhok/BU/data/messy_strings.csv\", index=False)\n"
   ]
  }
 ],
 "metadata": {
  "kernelspec": {
   "display_name": "lab_3",
   "language": "python",
   "name": "python3"
  },
  "language_info": {
   "codemirror_mode": {
    "name": "ipython",
    "version": 3
   },
   "file_extension": ".py",
   "mimetype": "text/x-python",
   "name": "python",
   "nbconvert_exporter": "python",
   "pygments_lexer": "ipython3",
   "version": "3.13.5"
  }
 },
 "nbformat": 4,
 "nbformat_minor": 5
}

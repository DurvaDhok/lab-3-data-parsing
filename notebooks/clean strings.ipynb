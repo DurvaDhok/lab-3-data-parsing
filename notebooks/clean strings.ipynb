{
 "cells": [
  {
   "cell_type": "code",
   "execution_count": 4,
   "id": "5b4278cf",
   "metadata": {},
   "outputs": [
    {
     "name": "stdout",
     "output_type": "stream",
     "text": [
      "             raw\n",
      "0           BOB(\n",
      "1        dana~  \n",
      "2          {EVE/\n",
      "3      \"ALICE   \n",
      "4            BOB\n",
      "5           DANA\n",
      "6        CHARLIE\n",
      "7       alice   \n",
      "8          FRANK\n",
      "9            bob\n",
      "10           eve\n",
      "11        \\dana'\n",
      "12           EVE\n",
      "13      CHARLIE \n",
      "14          -eve\n",
      "15        bob   \n",
      "16           EVE\n",
      "17     .FRANK   \n",
      "18          eve \n",
      "19           EVE\n",
      "20          BOB&\n",
      "21      charlie\"\n",
      "22    ,charlie  \n",
      "23         EVE  \n",
      "24         ]dana\n",
      "25     charlie  \n",
      "26        alice+\n",
      "27         EVE{ \n",
      "28          DANA\n",
      "29       frank  \n",
      "30      CHARLIE!\n",
      "31      |ALICE# \n",
      "32           BOB\n",
      "33        frank^\n",
      "34         alice\n",
      "35          'bob\n",
      "36       CHARLIE\n",
      "37         eve+ \n",
      "38      CHARLIE \n",
      "39       charlie\n",
      "40         dana#\n",
      "41       DANA   \n",
      "42          dana\n",
      "43       CHARLIE\n",
      "44    =charlie! \n",
      "45        bob   \n",
      "46           bob\n",
      "47       ;EVE   \n",
      "48    =charlie  \n",
      "49          dana\n"
     ]
    }
   ],
   "source": [
    "import pandas as pd\n",
    "\n",
    "df = pd.read_csv(\"/Users/durvadhok/BU/data/messy_strings.csv\")\n",
    "print(df)\n"
   ]
  },
  {
   "cell_type": "code",
   "execution_count": 37,
   "id": "39087c55",
   "metadata": {},
   "outputs": [],
   "source": [
    "import string\n",
    "def clean_strings(strings):\n",
    "    strings.replace(\" \",\"\")\n",
    "    strings.str.lower()\n",
    "    strings.replace(\",\",\"\").replace(\"!\",\"\").replace(\"?\",\"\").replace(\".\",\"\").replace(\";\",\"\").replace(\":\",\"\")\n",
    "    filter(\"\", strings)\n"
   ]
  },
  {
   "cell_type": "code",
   "execution_count": 38,
   "id": "d0d07142",
   "metadata": {},
   "outputs": [],
   "source": [
    " df['clean'] = clean_strings(df['raw'])"
   ]
  },
  {
   "cell_type": "code",
   "execution_count": 45,
   "id": "8169e791",
   "metadata": {},
   "outputs": [],
   "source": [
    "total_rows = len(df['clean'])\n",
    "unique_count = (df['clean']).nunique\n",
    "most_common_strings = (df['clean']).value_counts().idxmax"
   ]
  },
  {
   "cell_type": "code",
   "execution_count": 46,
   "id": "05d2aae7",
   "metadata": {},
   "outputs": [],
   "source": [
    "df.to_csv(\"/Users/durvadhok/BU/data/messy_strings.csv\", index=False)\n"
   ]
  }
 ],
 "metadata": {
  "kernelspec": {
   "display_name": "base",
   "language": "python",
   "name": "python3"
  },
  "language_info": {
   "codemirror_mode": {
    "name": "ipython",
    "version": 3
   },
   "file_extension": ".py",
   "mimetype": "text/x-python",
   "name": "python",
   "nbconvert_exporter": "python",
   "pygments_lexer": "ipython3",
   "version": "3.13.5"
  }
 },
 "nbformat": 4,
 "nbformat_minor": 5
}
